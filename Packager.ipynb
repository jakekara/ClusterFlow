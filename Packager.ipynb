{
 "cells": [
  {
   "cell_type": "markdown",
   "metadata": {},
   "source": [
    "# Packager\n",
    "\n",
    "Given a root directory with a number of image directories, create a package for each image directory.\n",
    "\n",
    "A package contains:\n",
    "\n",
    "    1. A CSV defining the cluster assignments for each image\n",
    "    2. A number of PNG images, one for each cluster\n",
    "    3. A JSON file \"form\" to fill out, which user can manually set good clusters to \"true\""
   ]
  },
  {
   "cell_type": "code",
   "execution_count": 1,
   "metadata": {},
   "outputs": [
    {
     "name": "stderr",
     "output_type": "stream",
     "text": [
      "Using TensorFlow backend.\n"
     ]
    }
   ],
   "source": [
    "import os\n",
    "import pandas as pd\n",
    "import json\n",
    "\n",
    "from nbmod import nbloader\n",
    "from Clusterer import cluster_directory\n",
    "\n",
    "import sys\n",
    "sys.path.append(\"./utils/\")\n",
    "from ivpy import montage\n",
    "\n",
    "from multiprocessing import Pool, cpu_count"
   ]
  },
  {
   "cell_type": "code",
   "execution_count": 2,
   "metadata": {},
   "outputs": [],
   "source": [
    "def package_cluster(df, cluster_id, dst_dir):\n",
    "    cluster_df = df[df[\"cluster\"] == cluster_id]\n",
    "    dst_fname = f\"cluster-{cluster_id}.png\"\n",
    "    dst_fpath = os.path.join(dst_dir, dst_fname)\n",
    "    if os.path.exists(dst_fpath):\n",
    "        return\n",
    "\n",
    "    print(f\"Packaging cluster {cluster_id} => {dst_fpath}\")\n",
    "\n",
    "    fig = montage(pathcol=cluster_df[\"localpath\"], thumb=60)\n",
    "    fig.save(dst_fpath)\n"
   ]
  },
  {
   "cell_type": "code",
   "execution_count": 1,
   "metadata": {},
   "outputs": [],
   "source": [
    "def package_df(df, dst_dir):\n",
    "    \n",
    "    form_json = {}\n",
    "    \n",
    "    def add_cluster(cluster_id):\n",
    "        form_json[str(cluster_id)] = False\n",
    "        \n",
    "    try: \n",
    "        os.makedirs(dst_dir)\n",
    "    except:\n",
    "        pass\n",
    "        \n",
    "    clusters = df[\"cluster\"].unique()\n",
    "    \n",
    "    for cluster_id in clusters:\n",
    "        add_cluster(cluster_id)\n",
    "        package_cluster(df, cluster_id, dst_dir)\n",
    "        \n",
    "    # write form_json file\n",
    "    open(os.path.join(dst_dir, \"good.json\"), \"w\").write(json.dumps(form_json, indent=2))\n",
    "    \n",
    "    return form_json"
   ]
  },
  {
   "cell_type": "code",
   "execution_count": 4,
   "metadata": {},
   "outputs": [],
   "source": [
    "def package_directory(src_dir, dest_dir):\n",
    "    \n",
    "    pkg_id = os.path.basename(src_dir)\n",
    "    pkg_dest = os.path.join(dest_dir, pkg_id)\n",
    "        \n",
    "    # Write the CSV\n",
    "    csv_dest = os.path.join(pkg_dest, \"clusters.csv\")\n",
    "    \n",
    "    try:\n",
    "        os.makedirs(pkg_dest)\n",
    "    except:\n",
    "        pass\n",
    "    \n",
    "    \n",
    "    if not os.path.exists(csv_dest):\n",
    "        print(f\"Started clustering {src_dir}\")\n",
    "        cluster_directory(src_dir).to_csv(csv_dest, index=False)\n",
    "        print(f\"Created {csv_dest}\")\n",
    "    df = pd.read_csv(csv_dest)\n",
    "    \n",
    "    # Create cluster images\n",
    "    package_df(df, pkg_dest)\n",
    "    \n",
    "    return df"
   ]
  },
  {
   "cell_type": "code",
   "execution_count": 5,
   "metadata": {},
   "outputs": [],
   "source": [
    "# #NBMODULE_IGNORE\n",
    "# df = package_directory(\"/Volumes/EveryPixel/2020 Data/output/cropped/2012m1_ref32_4a7\", \"./out/packages/\")"
   ]
  },
  {
   "cell_type": "code",
   "execution_count": 6,
   "metadata": {},
   "outputs": [],
   "source": [
    "def process_subdir(tup):\n",
    "    root_dir, img_dir = tup\n",
    "    sub_dir = os.path.join(root_dir, img_dir)\n",
    "    if not os.path.isdir(sub_dir):\n",
    "        return\n",
    "    if not img_dir.startswith(\"2012\"):\n",
    "        return\n",
    "    print(f\"Processing image directory: {img_dir}\")\n",
    "    package_directory(sub_dir, \"./out/packages\")\n"
   ]
  },
  {
   "cell_type": "code",
   "execution_count": 9,
   "metadata": {},
   "outputs": [],
   "source": [
    "\n",
    "def process_all(root_dir, dest_root, multicore=False):\n",
    "\n",
    "    if multicore:\n",
    "        p_count = int(max(1, cpu_count() / 2))\n",
    "        print(f\"Running on {p_count} cores\")\n",
    "        with Pool(p_count) as p:\n",
    "            p.map(process_subdir, [(root_dir, x) for x in os.listdir(root_dir)])\n",
    "    \n",
    "    else:\n",
    "        for x in os.listdir(root_dir):\n",
    "            process_subdir((root_dir, x))\n",
    "\n"
   ]
  },
  {
   "cell_type": "code",
   "execution_count": null,
   "metadata": {},
   "outputs": [
    {
     "name": "stdout",
     "output_type": "stream",
     "text": [
      "Processing image directory: 2012m1_ref32_4a7\n",
      "Processing image directory: 2012m1_ref37_ckr\n",
      "Processing image directory: 2012m1_ref67_835\n",
      "Processing image directory: 2012m1_ref94_yy5\n",
      "Processing image directory: 2012m1_ref213_2yq\n",
      "Processing image directory: 2012m1_ref41_v3r\n",
      "Processing image directory: 2012m1_ref199_241\n",
      "Processing image directory: 2012m1_ref79_8u9\n",
      "Processing image directory: 2012m1_ref134_ex1\n",
      "Processing image directory: 2012m1_ref206_osx\n",
      "Processing image directory: 2012m1_ref226_9eb\n",
      "Processing image directory: 2012m1_ref71_2b5\n",
      "Processing image directory: 2012m1_ref195_426\n",
      "Processing image directory: 2012m1_ref86_3se\n",
      "Processing image directory: 2012m2_ref33_oy0\n",
      "Processing image directory: 2012m2_ref64_3o1\n",
      "Processing image directory: 2012m2_ref85_896\n",
      "Processing image directory: 2012m2_ref116_a77\n",
      "Processing image directory: 2012m2_ref117_vbm\n",
      "Processing image directory: 2012m2_ref119_h8b\n",
      "Processing image directory: 2012m2_ref120_2xq\n",
      "Processing image directory: 2012m2_ref140_15f\n",
      "Started clustering /Volumes/EveryPixel/2020 Data/output/cropped/2012m2_ref140_15f\n",
      "5% 10% 15% 20% 25% 30% 35% 40% 45% 50% 55% 60% 65% 70% 75% 80% 85% 90% 95% method: hierarchical \n",
      "number of clusters: 16\n",
      "Created ./out/packages/2012m2_ref140_15f/clusters.csv\n",
      "Packaging cluster 0 => ./out/packages/2012m2_ref140_15f/cluster-0.png\n",
      "Packaging cluster 8 => ./out/packages/2012m2_ref140_15f/cluster-8.png\n",
      "Packaging cluster 3 => ./out/packages/2012m2_ref140_15f/cluster-3.png\n",
      "Packaging cluster 15 => ./out/packages/2012m2_ref140_15f/cluster-15.png\n",
      "Packaging cluster 6 => ./out/packages/2012m2_ref140_15f/cluster-6.png\n",
      "Packaging cluster 4 => ./out/packages/2012m2_ref140_15f/cluster-4.png\n",
      "Packaging cluster 5 => ./out/packages/2012m2_ref140_15f/cluster-5.png\n",
      "Packaging cluster 7 => ./out/packages/2012m2_ref140_15f/cluster-7.png\n",
      "Packaging cluster 2 => ./out/packages/2012m2_ref140_15f/cluster-2.png\n",
      "Packaging cluster 12 => ./out/packages/2012m2_ref140_15f/cluster-12.png\n",
      "Packaging cluster 10 => ./out/packages/2012m2_ref140_15f/cluster-10.png\n",
      "Packaging cluster 1 => ./out/packages/2012m2_ref140_15f/cluster-1.png\n",
      "Packaging cluster 13 => ./out/packages/2012m2_ref140_15f/cluster-13.png\n",
      "Packaging cluster 11 => ./out/packages/2012m2_ref140_15f/cluster-11.png\n",
      "Packaging cluster 9 => ./out/packages/2012m2_ref140_15f/cluster-9.png\n",
      "Packaging cluster 14 => ./out/packages/2012m2_ref140_15f/cluster-14.png\n",
      "Processing image directory: 2012m2_ref240_o2t\n",
      "Started clustering /Volumes/EveryPixel/2020 Data/output/cropped/2012m2_ref240_o2t\n",
      "5% 10% 15% 20% 25% 30% 35% 40% 45% 50% 55% 60% 65% 70% 75% "
     ]
    }
   ],
   "source": [
    "#NBMODULE_IGNORE   \n",
    "process_all(\"/Volumes/EveryPixel/2020 Data/output/cropped/\", \"./out/packages\")"
   ]
  },
  {
   "cell_type": "code",
   "execution_count": null,
   "metadata": {},
   "outputs": [],
   "source": []
  }
 ],
 "metadata": {
  "kernelspec": {
   "display_name": "Python 3",
   "language": "python",
   "name": "python3"
  },
  "language_info": {
   "codemirror_mode": {
    "name": "ipython",
    "version": 3
   },
   "file_extension": ".py",
   "mimetype": "text/x-python",
   "name": "python",
   "nbconvert_exporter": "python",
   "pygments_lexer": "ipython3",
   "version": "3.7.6"
  }
 },
 "nbformat": 4,
 "nbformat_minor": 4
}
