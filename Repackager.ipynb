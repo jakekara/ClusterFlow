{
 "cells": [
  {
   "cell_type": "markdown",
   "metadata": {},
   "source": [
    "# Repackager\n",
    "\n",
    "Create a package from a list of good files instead of a directory"
   ]
  },
  {
   "cell_type": "code",
   "execution_count": 5,
   "metadata": {},
   "outputs": [
    {
     "name": "stderr",
     "output_type": "stream",
     "text": [
      "Using TensorFlow backend.\n"
     ]
    }
   ],
   "source": [
    "from nbmod import nbloader\n",
    "from Packager import package_df\n",
    "from Clusterer import add_cluster_column\n",
    "import pandas as pd\n",
    "import os"
   ]
  },
  {
   "cell_type": "code",
   "execution_count": 6,
   "metadata": {},
   "outputs": [],
   "source": [
    "CSV_URL = \"https://docs.google.com/spreadsheets/d/e/2PACX-1vSgGCk9pdnXBQoIWNJTLwRcjScrFqPJTWujekS9JXrUsqc3VKpIkkFyVkJrc4B2riy68_YzOIT-yQcY/pub?gid=0&single=true&output=csv\"\n",
    "IMAGE_DIR = \"./sample-images/cropped\""
   ]
  },
  {
   "cell_type": "code",
   "execution_count": 7,
   "metadata": {},
   "outputs": [],
   "source": [
    "def get_df():\n",
    "    return pd.read_csv(CSV_URL)\n",
    "\n",
    "#get_df().head()"
   ]
  },
  {
   "cell_type": "code",
   "execution_count": 8,
   "metadata": {},
   "outputs": [],
   "source": [
    "def get_good_df(initials):\n",
    "    df = get_df()\n",
    "    return df[df[f\"{initials.lower().strip()}_good\"] == True]\n",
    "    \n",
    "# get_good_df(\"jk\").head()"
   ]
  },
  {
   "cell_type": "code",
   "execution_count": 9,
   "metadata": {},
   "outputs": [],
   "source": [
    "class Package:\n",
    "    \n",
    "    def __init__(self, pkg_dir):\n",
    "        self.pkg_dir = pkg_dir\n",
    "        \n",
    "    def clusters(self):\n",
    "        return pd.read_csv(os.path.join(self.pkg_dir, \"clusters.csv\"))\n",
    "    \n",
    "    def cluster(self, cluster_id):\n",
    "        ret = self.clusters()\n",
    "        return ret[ret[\"cluster\"].apply(lambda x: str(x)) == str(cluster_id)]\n",
    "    \n"
   ]
  },
  {
   "cell_type": "code",
   "execution_count": 10,
   "metadata": {},
   "outputs": [],
   "source": [
    "# Package(\"./out/packages-firstpass/2012m1_ref134_ex1/\").clusters()"
   ]
  },
  {
   "cell_type": "code",
   "execution_count": 11,
   "metadata": {},
   "outputs": [],
   "source": [
    "# Package(\"./out/packages-firstpass/2012m1_ref134_ex1/\").cluster(4)"
   ]
  },
  {
   "cell_type": "code",
   "execution_count": 12,
   "metadata": {},
   "outputs": [],
   "source": [
    "def get_mega_cluster(initials):\n",
    "    good_df = get_good_df(initials)\n",
    "    good_df[\"cluster\"] = \"mega\"\n",
    "    return good_df\n",
    "#get_mega_cluster(\"cd\")"
   ]
  },
  {
   "cell_type": "code",
   "execution_count": 13,
   "metadata": {},
   "outputs": [],
   "source": [
    "def package_good(initials, dst_dir):\n",
    "    \n",
    "    \"\"\"\n",
    "        Re-cluster a user's selected 'good' images, and then re-cluster\n",
    "        everything as one big set\n",
    "    \"\"\"\n",
    "    \n",
    "    dst_dir = os.path.join(dst_dir, initials)\n",
    "    try:\n",
    "        os.makedirs(dst_dir)\n",
    "    except Exception as e:\n",
    "        #print(f\"Error: {e}\")\n",
    "        pass\n",
    "    \n",
    "    good_df = get_good_df(initials)\n",
    "    mega_df = pd.DataFrame()\n",
    "    row_sum = 0\n",
    "    for i, row in good_df.iterrows():\n",
    "        row_df = Package(f\"./out/packages-firstpass/{row['folder_name']}/\").cluster(row[\"cluster_id\"])\n",
    "        row_sum += len(row_df)\n",
    "\n",
    "        print(f\"Reclustering {row_sum} images in folder:{row['folder_name']} cluster:{row['cluster_id']}\")\n",
    "        row_df = add_cluster_column(row_df)\n",
    "        row_dst = os.path.join(\n",
    "                os.path.join(dst_dir, row['folder_name']),\n",
    "                str(row[\"cluster_id\"])\n",
    "            )\n",
    "        package_df(row_df, row_dst)\n",
    "        \n",
    "        row_df.to_csv(os.path.join(row_dst, \"clusters.csv\"), index=False)\n",
    "        \n",
    "        if mega_df.empty:\n",
    "            mega_df = row_df.copy()\n",
    "        else:\n",
    "            mega_df = pd.concat([mega_df, row_df])\n",
    "    \n",
    "    print (row_sum)\n",
    "    print (len(mega_df))\n",
    "    mega_df[\"cluster\"] = f\"all\" \n",
    "    \n",
    "    ret = pd.concat([mega_df, mega_df2])\n",
    "    \n",
    "    package_df(ret, os.path.join(\"mega\", dst_dir))\n",
    "    \n",
    "    return ret\n"
   ]
  },
  {
   "cell_type": "code",
   "execution_count": 15,
   "metadata": {},
   "outputs": [],
   "source": [
    "#NBMODULE_IGNORE\n",
    "\n",
    "# package_good(\"cd\", \"./out/packages-grading/1\")\n"
   ]
  },
  {
   "cell_type": "code",
   "execution_count": null,
   "metadata": {},
   "outputs": [],
   "source": []
  }
 ],
 "metadata": {
  "kernelspec": {
   "display_name": "Python 3",
   "language": "python",
   "name": "python3"
  },
  "language_info": {
   "codemirror_mode": {
    "name": "ipython",
    "version": 3
   },
   "file_extension": ".py",
   "mimetype": "text/x-python",
   "name": "python",
   "nbconvert_exporter": "python",
   "pygments_lexer": "ipython3",
   "version": "3.7.6"
  }
 },
 "nbformat": 4,
 "nbformat_minor": 4
}
