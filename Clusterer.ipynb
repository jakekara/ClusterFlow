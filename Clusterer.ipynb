{
 "cells": [
  {
   "cell_type": "markdown",
   "metadata": {},
   "source": [
    "# Clusterer\n",
    "\n",
    "This notebook takes a folder of images and generates clusters of cars for users to label as good or not good clusters.\n",
    "\n",
    "The output from this notebook is a set of cluster images to judge, a CSV of images in each cluster, and a JSON file to set the good bad values. \n",
    "\n",
    "This JSON file and CSV together can be used as inputs for the Copier, which will copy the good images to a specified destination."
   ]
  },
  {
   "cell_type": "code",
   "execution_count": 1,
   "metadata": {},
   "outputs": [
    {
     "name": "stderr",
     "output_type": "stream",
     "text": [
      "Using TensorFlow backend.\n"
     ]
    }
   ],
   "source": [
    "import pandas as pd\n",
    "import os\n",
    "import sys\n",
    "\n",
    "from nbmod import nbloader\n",
    "from utils.FileTools import picture_frame\n",
    "\n",
    "sys.path.append(\"./utils/\")\n",
    "from ivpy.extract import extract\n",
    "from ivpy.cluster import cluster\n",
    "from ivpy import montage"
   ]
  },
  {
   "cell_type": "markdown",
   "metadata": {},
   "source": [
    "# Clustering"
   ]
  },
  {
   "cell_type": "code",
   "execution_count": 2,
   "metadata": {},
   "outputs": [],
   "source": [
    "def add_cluster_column(df, k=16):\n",
    "    ret = df.copy()\n",
    "    X = extract('neural', pathcol=ret[\"localpath\"])\n",
    "    ret[\"cluster\"] = cluster(X, method=\"hierarchical\", k=k)\n",
    "    return ret\n",
    "    "
   ]
  },
  {
   "cell_type": "code",
   "execution_count": 3,
   "metadata": {},
   "outputs": [],
   "source": [
    "def cluster_directory(dir_path):\n",
    "    pf = picture_frame(dir_path)\n",
    "    pf = add_cluster_column(pf)\n",
    "    \n",
    "    return pf"
   ]
  },
  {
   "cell_type": "code",
   "execution_count": null,
   "metadata": {},
   "outputs": [],
   "source": [
    "#NBMODULE_IGNORE\n",
    "# Load a directory of images\n",
    "pf = picture_frame(\"./sample-images/cropped/\")\n",
    "\n",
    "# Cluster the dataframe\n",
    "pf = add_cluster_column(pf)\n",
    "pf.head()"
   ]
  },
  {
   "cell_type": "code",
   "execution_count": null,
   "metadata": {},
   "outputs": [],
   "source": [
    "# def cluster_dir(img_dir):\n",
    "\n",
    "#     # Get the base name of the directory\n",
    "#     if not os.path.isdir(img_dir):\n",
    "#         raise Exception(f\"Invalid image directory: {img_dir}\")\n",
    "    \n",
    "#     pf = picture_frame(img_dir)\n",
    "#     pf = add_cluster_column(pf)\n",
    "     \n",
    "#     return pf\n",
    "\n"
   ]
  },
  {
   "cell_type": "code",
   "execution_count": null,
   "metadata": {},
   "outputs": [],
   "source": [
    "# #NBMODULE_IGNORE \n",
    "# cluster_dir(\"/Volumes/EveryPixel/2020 Data/output/cropped/2012m1_ref32_4a7\")"
   ]
  },
  {
   "cell_type": "code",
   "execution_count": null,
   "metadata": {},
   "outputs": [],
   "source": [
    "# c1montage.save(\"./cluster-1.png\")"
   ]
  },
  {
   "cell_type": "markdown",
   "metadata": {},
   "source": [
    "# Packaging\n",
    "\n",
    "Finally we need to package each cluster so users can decide whether they are good or bad."
   ]
  },
  {
   "cell_type": "code",
   "execution_count": null,
   "metadata": {},
   "outputs": [],
   "source": [
    "# def package_cluster(df, cluster_id, dst_dir):\n",
    "#     print(f\"Packaging cluster {cluster_id}\")\n",
    "#     cluster_df = df[df[\"cluster\"] == cluster_id]\n",
    "# #     attach(cluster_df, pathcol=\"localpath\")\n",
    "#     fig = montage(pathcol=cluster_df[\"localpath\"], thumb=60)\n",
    "#     fig.save(os.path.join(dst_dir, f\"cluster-{cluster_id}.png\"))\n",
    "    \n",
    "# # package_cluster(pf, 2, \"./out/packages\")"
   ]
  },
  {
   "cell_type": "code",
   "execution_count": null,
   "metadata": {},
   "outputs": [],
   "source": [
    "# def package_df(df, dst_dir):\n",
    "    \n",
    "#     form_json = {}\n",
    "    \n",
    "#     def add_cluster(cluster_id):\n",
    "#         form_json[str(cluster_id)] = False\n",
    "\n",
    "        \n",
    "#     clusters = df[\"cluster\"].unique()\n",
    "    \n",
    "#     for cluster_id in clusters:\n",
    "#         add_cluster(cluster_id)\n",
    "#         package_cluster(df, cluster_id, dst_dir)\n",
    "        \n",
    "#     # write form_json file\n",
    "#     open(os.path.join(dst_dir, \"good.json\"), \"w\").write(json.dumps(form_json, indent=2))\n",
    "    \n",
    "#     return form_json\n",
    "    \n",
    "# fj = package_df(pf, \"./out/packages\")"
   ]
  },
  {
   "cell_type": "code",
   "execution_count": null,
   "metadata": {},
   "outputs": [],
   "source": []
  },
  {
   "cell_type": "code",
   "execution_count": null,
   "metadata": {},
   "outputs": [],
   "source": []
  },
  {
   "cell_type": "code",
   "execution_count": null,
   "metadata": {},
   "outputs": [],
   "source": []
  }
 ],
 "metadata": {
  "kernelspec": {
   "display_name": "Python 3",
   "language": "python",
   "name": "python3"
  },
  "language_info": {
   "codemirror_mode": {
    "name": "ipython",
    "version": 3
   },
   "file_extension": ".py",
   "mimetype": "text/x-python",
   "name": "python",
   "nbconvert_exporter": "python",
   "pygments_lexer": "ipython3",
   "version": "3.7.6"
  }
 },
 "nbformat": 4,
 "nbformat_minor": 4
}
