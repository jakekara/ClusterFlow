{
 "cells": [
  {
   "cell_type": "code",
   "execution_count": 1,
   "metadata": {},
   "outputs": [],
   "source": [
    "import glob\n",
    "import os\n",
    "import pandas as pd\n",
    "from pathlib import PosixPath"
   ]
  },
  {
   "cell_type": "code",
   "execution_count": 51,
   "metadata": {},
   "outputs": [],
   "source": [
    "class ImagePath(PosixPath):\n",
    "    \n",
    "    \"\"\" Extends pathlib.PosixPath to parse object type and score.  \n",
    "    May need some tweaking or may just work in Windows by \n",
    "    replacing PosixPath with WindowsPath. Not sure\"\"\"\n",
    "    \n",
    "#     def __init__(self, raw:str):\n",
    "#         self.path = Path(raw)\n",
    "\n",
    "    def is_valid(self):\n",
    "        try:\n",
    "            self.score()\n",
    "            self.objtype()\n",
    "            return True\n",
    "        except:\n",
    "            return False\n",
    "    \n",
    "    def score(self):\n",
    "        return int(self.stem.split(\"-\")[-2])\n",
    "    \n",
    "    def objtype(self):\n",
    "        return self.stem.split(\"-\")[-3]\n",
    "    \n",
    "    def idx(self):\n",
    "        return int(self.stem.split(\"-\")[-1])\n"
   ]
  },
  {
   "cell_type": "code",
   "execution_count": 52,
   "metadata": {},
   "outputs": [],
   "source": [
    "#NBMODULE_IGNORE \n",
    "fp = ImagePath(\"/Users/jake/Code/cars/ruscha-masks/gri_2012_m_1_fn3_1975aug03_r001_0000a-car-99-0.png\")\n",
    "assert fp.score() == 99\n",
    "assert fp.objtype() == \"car\"\n",
    "assert fp.idx() == 0"
   ]
  },
  {
   "cell_type": "code",
   "execution_count": 55,
   "metadata": {},
   "outputs": [],
   "source": [
    "class PathFormer:\n",
    "    \n",
    "    file_ext = \".png\"\n",
    "    \n",
    "    \n",
    "    def setattr_type(self, name, value, required_type):\n",
    "        assert type(value) == required_type\n",
    "        setattr(self, name, value)\n",
    "        return self\n",
    "        \n",
    "    def setattr_str(self, name, value):\n",
    "        return self.setattr_type(name, value, str)\n",
    "        \n",
    "    def setattr_int(self, name, value):\n",
    "        return self.setattr_type(name, value, int)\n",
    "        \n",
    "    def set_parent(self, dir_path:str):\n",
    "        return self.setattr_str(\"parent\", dir_path)\n",
    "        \n",
    "    def set_file_stem(self, file_stem:str):\n",
    "        return self.setattr_str(\"file_stem\", file_stem)\n",
    "        \n",
    "    def set_file_ext(self, file_ext:str):\n",
    "        return self.setattr_str(\"file_ext\", file_ext)\n",
    "    \n",
    "    def set_score(self, score:int):\n",
    "        return self.setattr_int(\"score\", score)\n",
    "    \n",
    "    def set_objtype(self, objtype:str):\n",
    "        return self.setattr_str(\"objtype\", objtype)\n",
    "    \n",
    "    def set_idx(self, idx:int):\n",
    "        return self.setattr_int(\"idx\", idx)\n",
    "    \n",
    "    def path(self):\n",
    "        return ImagePath(str(self))\n",
    "        \n",
    "    \n",
    "    def __str__(self):\n",
    "        return os.path.join(self.parent, f\"{self.file_stem}-{self.objtype}-{self.score}-{self.idx}{self.file_ext}\")\n",
    "    "
   ]
  },
  {
   "cell_type": "code",
   "execution_count": 56,
   "metadata": {},
   "outputs": [
    {
     "data": {
      "text/plain": [
       "ImagePath('../sample-images/masks/gri_2012_m_1_fn3_1975aug03_r001_0000a-car-99-0.png')"
      ]
     },
     "execution_count": 56,
     "metadata": {},
     "output_type": "execute_result"
    }
   ],
   "source": [
    "#NBMODULE_IGNORE    \n",
    "pf = PathFormer()\\\n",
    "    .set_parent(\"../sample-images/masks/\")\\\n",
    "    .set_file_stem(\"gri_2012_m_1_fn3_1975aug03_r001_0000a\")\\\n",
    "    .set_objtype(\"car\")\\\n",
    "    .set_score(99)\\\n",
    "    .set_idx(0)\n",
    "#     .set_file_ext(\".png\")\n",
    "\n",
    "pf.path()"
   ]
  },
  {
   "cell_type": "code",
   "execution_count": 84,
   "metadata": {},
   "outputs": [],
   "source": [
    "def picture_frame(dir_path, exts=[\"png\", \"jpg\"], img_col=\"localpath\"):\n",
    "    \n",
    "    \"\"\" Get a dataframe of image filenames from a directory of images with expected filename format\"\"\"\n",
    "    \n",
    "    if not os.path.isdir(dir_path):\n",
    "        raise Exception(f\"Invalid directory: {dir_path}\")\n",
    "        \n",
    "    ret = pd.DataFrame({img_col:glob.glob(os.path.join(dir_path,\"*.*\"))})\n",
    "\n",
    "    def valid_fname(fname):\n",
    "        for ext in exts:\n",
    "            if fname.lower().strip().endswith(ext.lower()):\n",
    "                return True\n",
    "        return False \n",
    "    \n",
    "    ret = ret[ret[img_col].apply(valid_fname)]\n",
    "    \n",
    "    return ret\n",
    "\n",
    "    ret = ret[ret[img_col].apply(lambda x: ImagePath(x).is_valid())]\n",
    "    \n",
    "    ret[\"score\"] = ret[img_col].apply(lambda x: ImagePath(x).score())\n",
    "    ret[\"objtype\"] = ret[img_col].apply(lambda x: ImagePath(x).objtype())\n",
    "    ret[\"idx\"] = ret[img_col].apply(lambda x: ImagePath(x).idx())\n",
    "    \n",
    "    return ret\n"
   ]
  },
  {
   "cell_type": "code",
   "execution_count": 85,
   "metadata": {},
   "outputs": [
    {
     "data": {
      "text/html": [
       "<div>\n",
       "<style scoped>\n",
       "    .dataframe tbody tr th:only-of-type {\n",
       "        vertical-align: middle;\n",
       "    }\n",
       "\n",
       "    .dataframe tbody tr th {\n",
       "        vertical-align: top;\n",
       "    }\n",
       "\n",
       "    .dataframe thead th {\n",
       "        text-align: right;\n",
       "    }\n",
       "</style>\n",
       "<table border=\"1\" class=\"dataframe\">\n",
       "  <thead>\n",
       "    <tr style=\"text-align: right;\">\n",
       "      <th></th>\n",
       "      <th>localpath</th>\n",
       "    </tr>\n",
       "  </thead>\n",
       "  <tbody>\n",
       "    <tr>\n",
       "      <th>0</th>\n",
       "      <td>../sample-images/cropped/gri_2012_m_1_fn3_1975...</td>\n",
       "    </tr>\n",
       "    <tr>\n",
       "      <th>1</th>\n",
       "      <td>../sample-images/cropped/gri_2012_m_1_fn3_1975...</td>\n",
       "    </tr>\n",
       "    <tr>\n",
       "      <th>2</th>\n",
       "      <td>../sample-images/cropped/gri_2012_m_1_fn3_1975...</td>\n",
       "    </tr>\n",
       "    <tr>\n",
       "      <th>3</th>\n",
       "      <td>../sample-images/cropped/gri_2012_m_1_fn3_1975...</td>\n",
       "    </tr>\n",
       "    <tr>\n",
       "      <th>4</th>\n",
       "      <td>../sample-images/cropped/gri_2012_m_1_fn3_1975...</td>\n",
       "    </tr>\n",
       "    <tr>\n",
       "      <th>...</th>\n",
       "      <td>...</td>\n",
       "    </tr>\n",
       "    <tr>\n",
       "      <th>7675</th>\n",
       "      <td>../sample-images/cropped/gri_2012_m_1_fn3_1975...</td>\n",
       "    </tr>\n",
       "    <tr>\n",
       "      <th>7676</th>\n",
       "      <td>../sample-images/cropped/gri_2012_m_1_fn3_1975...</td>\n",
       "    </tr>\n",
       "    <tr>\n",
       "      <th>7677</th>\n",
       "      <td>../sample-images/cropped/gri_2012_m_1_fn3_1975...</td>\n",
       "    </tr>\n",
       "    <tr>\n",
       "      <th>7678</th>\n",
       "      <td>../sample-images/cropped/gri_2012_m_1_fn3_1975...</td>\n",
       "    </tr>\n",
       "    <tr>\n",
       "      <th>7679</th>\n",
       "      <td>../sample-images/cropped/gri_2012_m_1_fn3_1975...</td>\n",
       "    </tr>\n",
       "  </tbody>\n",
       "</table>\n",
       "<p>7680 rows × 1 columns</p>\n",
       "</div>"
      ],
      "text/plain": [
       "                                              localpath\n",
       "0     ../sample-images/cropped/gri_2012_m_1_fn3_1975...\n",
       "1     ../sample-images/cropped/gri_2012_m_1_fn3_1975...\n",
       "2     ../sample-images/cropped/gri_2012_m_1_fn3_1975...\n",
       "3     ../sample-images/cropped/gri_2012_m_1_fn3_1975...\n",
       "4     ../sample-images/cropped/gri_2012_m_1_fn3_1975...\n",
       "...                                                 ...\n",
       "7675  ../sample-images/cropped/gri_2012_m_1_fn3_1975...\n",
       "7676  ../sample-images/cropped/gri_2012_m_1_fn3_1975...\n",
       "7677  ../sample-images/cropped/gri_2012_m_1_fn3_1975...\n",
       "7678  ../sample-images/cropped/gri_2012_m_1_fn3_1975...\n",
       "7679  ../sample-images/cropped/gri_2012_m_1_fn3_1975...\n",
       "\n",
       "[7680 rows x 1 columns]"
      ]
     },
     "execution_count": 85,
     "metadata": {},
     "output_type": "execute_result"
    }
   ],
   "source": [
    "#NBMODULE_IGNORE\n",
    "picture_frame(\"../sample-images/cropped/\", exts=[\"png\"])"
   ]
  },
  {
   "cell_type": "code",
   "execution_count": null,
   "metadata": {},
   "outputs": [],
   "source": []
  },
  {
   "cell_type": "code",
   "execution_count": null,
   "metadata": {},
   "outputs": [],
   "source": []
  }
 ],
 "metadata": {
  "kernelspec": {
   "display_name": "Python 3",
   "language": "python",
   "name": "python3"
  },
  "language_info": {
   "codemirror_mode": {
    "name": "ipython",
    "version": 3
   },
   "file_extension": ".py",
   "mimetype": "text/x-python",
   "name": "python",
   "nbconvert_exporter": "python",
   "pygments_lexer": "ipython3",
   "version": "3.7.6"
  }
 },
 "nbformat": 4,
 "nbformat_minor": 4
}
