{
 "cells": [
  {
   "cell_type": "code",
   "execution_count": 2,
   "metadata": {},
   "outputs": [],
   "source": [
    "import pandas as pd\n",
    "import os"
   ]
  },
  {
   "cell_type": "code",
   "execution_count": 22,
   "metadata": {},
   "outputs": [],
   "source": [
    "def tree_nodes(path):\n",
    "    \n",
    "    if not os.path.exists(path):\n",
    "        raise Exception(f\"Path does not exist: {path}\")\n",
    "        \n",
    "    if os.path.isfile(path):\n",
    "        return [path]\n",
    "    \n",
    "    if not os.path.isdir(path):\n",
    "        raise Exception(f\"What is this?: {path}\")\n",
    "    \n",
    "    ret = []\n",
    "    for fname in os.listdir(path):\n",
    "        ret += tree_nodes(os.path.join(path, fname))\n",
    "    return ret\n",
    "        \n",
    "        \n",
    "    "
   ]
  },
  {
   "cell_type": "code",
   "execution_count": 25,
   "metadata": {},
   "outputs": [
    {
     "data": {
      "text/plain": [
       "['./round-2/pl/2012m1_ref199_241/8/good.json',\n",
       " './round-2/pl/2012m1_ref199_241/8/cluster-5.png',\n",
       " './round-2/pl/2012m1_ref199_241/8/cluster-4.png',\n",
       " './round-2/pl/2012m1_ref199_241/8/clusters.csv',\n",
       " './round-2/pl/2012m1_ref199_241/8/cluster-6.png',\n",
       " './round-2/pl/2012m1_ref199_241/8/cluster-7.png',\n",
       " './round-2/pl/2012m1_ref199_241/8/cluster-3.png',\n",
       " './round-2/pl/2012m1_ref199_241/8/cluster-2.png',\n",
       " './round-2/pl/2012m1_ref199_241/8/cluster-0.png',\n",
       " './round-2/pl/2012m1_ref199_241/8/cluster-1.png']"
      ]
     },
     "execution_count": 25,
     "metadata": {},
     "output_type": "execute_result"
    }
   ],
   "source": [
    "#NBMODULE_IGNORE\n",
    "tree_nodes(\"./round-2\")[:10]"
   ]
  },
  {
   "cell_type": "code",
   "execution_count": 38,
   "metadata": {},
   "outputs": [],
   "source": [
    "def make_sheet(path):\n",
    "    nodes = tree_nodes(path)\n",
    "    \n",
    "    for n in nodes:\n",
    "        assert(os.path.exists(n))\n",
    "        \n",
    "    nodes = [str(x).replace(path, \"\").split(\"/\") for x in nodes if x.endswith(\".png\")]\n",
    "    \n",
    "    ret = pd.DataFrame(nodes)\n",
    "    \n",
    "    return ret\n"
   ]
  },
  {
   "cell_type": "code",
   "execution_count": 39,
   "metadata": {},
   "outputs": [
    {
     "data": {
      "text/html": [
       "<div>\n",
       "<style scoped>\n",
       "    .dataframe tbody tr th:only-of-type {\n",
       "        vertical-align: middle;\n",
       "    }\n",
       "\n",
       "    .dataframe tbody tr th {\n",
       "        vertical-align: top;\n",
       "    }\n",
       "\n",
       "    .dataframe thead th {\n",
       "        text-align: right;\n",
       "    }\n",
       "</style>\n",
       "<table border=\"1\" class=\"dataframe\">\n",
       "  <thead>\n",
       "    <tr style=\"text-align: right;\">\n",
       "      <th></th>\n",
       "      <th>0</th>\n",
       "      <th>1</th>\n",
       "      <th>2</th>\n",
       "      <th>3</th>\n",
       "    </tr>\n",
       "  </thead>\n",
       "  <tbody>\n",
       "    <tr>\n",
       "      <th>0</th>\n",
       "      <td></td>\n",
       "      <td>2012m1_ref199_241</td>\n",
       "      <td>8</td>\n",
       "      <td>cluster-5.png</td>\n",
       "    </tr>\n",
       "    <tr>\n",
       "      <th>1</th>\n",
       "      <td></td>\n",
       "      <td>2012m1_ref199_241</td>\n",
       "      <td>8</td>\n",
       "      <td>cluster-4.png</td>\n",
       "    </tr>\n",
       "    <tr>\n",
       "      <th>2</th>\n",
       "      <td></td>\n",
       "      <td>2012m1_ref199_241</td>\n",
       "      <td>8</td>\n",
       "      <td>cluster-6.png</td>\n",
       "    </tr>\n",
       "    <tr>\n",
       "      <th>3</th>\n",
       "      <td></td>\n",
       "      <td>2012m1_ref199_241</td>\n",
       "      <td>8</td>\n",
       "      <td>cluster-7.png</td>\n",
       "    </tr>\n",
       "    <tr>\n",
       "      <th>4</th>\n",
       "      <td></td>\n",
       "      <td>2012m1_ref199_241</td>\n",
       "      <td>8</td>\n",
       "      <td>cluster-3.png</td>\n",
       "    </tr>\n",
       "    <tr>\n",
       "      <th>5</th>\n",
       "      <td></td>\n",
       "      <td>2012m1_ref199_241</td>\n",
       "      <td>8</td>\n",
       "      <td>cluster-2.png</td>\n",
       "    </tr>\n",
       "    <tr>\n",
       "      <th>6</th>\n",
       "      <td></td>\n",
       "      <td>2012m1_ref199_241</td>\n",
       "      <td>8</td>\n",
       "      <td>cluster-0.png</td>\n",
       "    </tr>\n",
       "    <tr>\n",
       "      <th>7</th>\n",
       "      <td></td>\n",
       "      <td>2012m1_ref199_241</td>\n",
       "      <td>8</td>\n",
       "      <td>cluster-1.png</td>\n",
       "    </tr>\n",
       "    <tr>\n",
       "      <th>8</th>\n",
       "      <td></td>\n",
       "      <td>2012m1_ref199_241</td>\n",
       "      <td>8</td>\n",
       "      <td>cluster-9.png</td>\n",
       "    </tr>\n",
       "    <tr>\n",
       "      <th>9</th>\n",
       "      <td></td>\n",
       "      <td>2012m1_ref199_241</td>\n",
       "      <td>8</td>\n",
       "      <td>cluster-8.png</td>\n",
       "    </tr>\n",
       "  </tbody>\n",
       "</table>\n",
       "</div>"
      ],
      "text/plain": [
       "  0                  1  2              3\n",
       "0    2012m1_ref199_241  8  cluster-5.png\n",
       "1    2012m1_ref199_241  8  cluster-4.png\n",
       "2    2012m1_ref199_241  8  cluster-6.png\n",
       "3    2012m1_ref199_241  8  cluster-7.png\n",
       "4    2012m1_ref199_241  8  cluster-3.png\n",
       "5    2012m1_ref199_241  8  cluster-2.png\n",
       "6    2012m1_ref199_241  8  cluster-0.png\n",
       "7    2012m1_ref199_241  8  cluster-1.png\n",
       "8    2012m1_ref199_241  8  cluster-9.png\n",
       "9    2012m1_ref199_241  8  cluster-8.png"
      ]
     },
     "execution_count": 39,
     "metadata": {},
     "output_type": "execute_result"
    }
   ],
   "source": [
    "#NBMODULE_IGNORE \n",
    "make_sheet(\"round-2/pl\")[:10]"
   ]
  },
  {
   "cell_type": "code",
   "execution_count": null,
   "metadata": {},
   "outputs": [],
   "source": []
  },
  {
   "cell_type": "code",
   "execution_count": null,
   "metadata": {},
   "outputs": [],
   "source": []
  }
 ],
 "metadata": {
  "kernelspec": {
   "display_name": "Python 3",
   "language": "python",
   "name": "python3"
  },
  "language_info": {
   "codemirror_mode": {
    "name": "ipython",
    "version": 3
   },
   "file_extension": ".py",
   "mimetype": "text/x-python",
   "name": "python",
   "nbconvert_exporter": "python",
   "pygments_lexer": "ipython3",
   "version": "3.7.6"
  }
 },
 "nbformat": 4,
 "nbformat_minor": 4
}
